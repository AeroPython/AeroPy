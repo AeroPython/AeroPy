{
 "metadata": {
  "name": "",
  "signature": "sha256:726edeb8f702691c94f7c4337cf8c0d20522413cb5465f6f4aa0677c1ab14bbd"
 },
 "nbformat": 3,
 "nbformat_minor": 0,
 "worksheets": [
  {
   "cells": [
    {
     "cell_type": "code",
     "collapsed": false,
     "input": [
      "%matplotlib inline"
     ],
     "language": "python",
     "metadata": {},
     "outputs": [],
     "prompt_number": 1
    },
    {
     "cell_type": "code",
     "collapsed": false,
     "input": [
      "import matplotlib.pyplot as plt\n",
      "import numpy as np"
     ],
     "language": "python",
     "metadata": {},
     "outputs": [],
     "prompt_number": 2
    },
    {
     "cell_type": "code",
     "collapsed": false,
     "input": [
      "puntos_control = np.array([[0,0],\n",
      "                           [0,1],\n",
      "                           [3,5],\n",
      "                           [3,0]])"
     ],
     "language": "python",
     "metadata": {},
     "outputs": [],
     "prompt_number": 3
    },
    {
     "cell_type": "code",
     "collapsed": false,
     "input": [
      "num = 100"
     ],
     "language": "python",
     "metadata": {},
     "outputs": [],
     "prompt_number": 4
    },
    {
     "cell_type": "code",
     "collapsed": false,
     "input": [
      "parametro_u = np.linspace(0,1,num)"
     ],
     "language": "python",
     "metadata": {},
     "outputs": [],
     "prompt_number": 5
    },
    {
     "cell_type": "code",
     "collapsed": false,
     "input": [
      "curva = np.zeros([num,2])"
     ],
     "language": "python",
     "metadata": {},
     "outputs": [],
     "prompt_number": 6
    },
    {
     "cell_type": "code",
     "collapsed": false,
     "input": [
      "def bernstein(u):\n",
      "    b = np.zeros([4,2])\n",
      "    b[0,:] =         (1-u)**3\n",
      "    b[1,:] = (u    * (1-u)**2)*3\n",
      "    b[2,:] = (u**2 * (1-u)   )*3\n",
      "    b[3,:] =  u**3\n",
      "    \n",
      "    return b"
     ],
     "language": "python",
     "metadata": {},
     "outputs": [],
     "prompt_number": 7
    },
    {
     "cell_type": "code",
     "collapsed": false,
     "input": [
      "for contador in np.arange(num):\n",
      "    _ = bernstein(parametro_u[contador])*puntos_control\n",
      "    curva[contador,] = sum (_)\n",
      "    \n"
     ],
     "language": "python",
     "metadata": {},
     "outputs": [],
     "prompt_number": 8
    },
    {
     "cell_type": "code",
     "collapsed": true,
     "input": [
      "plt.plot(curva[:,0],curva[:,1])"
     ],
     "language": "python",
     "metadata": {},
     "outputs": [
      {
       "metadata": {},
       "output_type": "pyout",
       "prompt_number": 9,
       "text": [
        "[<matplotlib.lines.Line2D at 0x6730eb8>]"
       ]
      },
      {
       "metadata": {},
       "output_type": "display_data",
       "png": "[encoded data removed]",
       "text": [
        "<matplotlib.figure.Figure at 0x66d4358>"
       ]
      }
     ],
     "prompt_number": 9
    },
    {
     "cell_type": "code",
     "collapsed": false,
     "input": [
      "bernstein(0.2)*puntos_control"
     ],
     "language": "python",
     "metadata": {},
     "outputs": [
      {
       "metadata": {},
       "output_type": "pyout",
       "prompt_number": 10,
       "text": [
        "array([[ 0.   ,  0.   ],\n",
        "       [ 0.   ,  0.384],\n",
        "       [ 0.288,  0.48 ],\n",
        "       [ 0.024,  0.   ]])"
       ]
      }
     ],
     "prompt_number": 10
    },
    {
     "cell_type": "code",
     "collapsed": false,
     "input": [
      "sum(puntos_control)"
     ],
     "language": "python",
     "metadata": {},
     "outputs": [
      {
       "metadata": {},
       "output_type": "pyout",
       "prompt_number": 11,
       "text": [
        "array([6, 6])"
       ]
      }
     ],
     "prompt_number": 11
    },
    {
     "cell_type": "code",
     "collapsed": false,
     "input": [
      "curva[:,1]"
     ],
     "language": "python",
     "metadata": {},
     "outputs": [
      {
       "metadata": {},
       "output_type": "pyout",
       "prompt_number": 12,
       "text": [
        "array([ 0.        ,  0.03120894,  0.06418022,  0.09883964,  0.13511299,\n",
        "        0.17292608,  0.21220469,  0.25287463,  0.29486169,  0.33809166,\n",
        "        0.38249035,  0.42798354,  0.47449704,  0.52195663,  0.57028813,\n",
        "        0.61941731,  0.66926999,  0.71977195,  0.77084899,  0.8224269 ,\n",
        "        0.87443149,  0.92678855,  0.97942387,  1.03226325,  1.08523249,\n",
        "        1.13825738,  1.19126372,  1.24417731,  1.29692394,  1.3494294 ,\n",
        "        1.4016195 ,  1.45342003,  1.50475678,  1.55555556,  1.60574215,\n",
        "        1.65524235,  1.70398197,  1.75188679,  1.79888261,  1.84489523,\n",
        "        1.88985045,  1.93367405,  1.97629184,  2.01762962,  2.05761317,\n",
        "        2.09616829,  2.13322079,  2.16869645,  2.20252108,  2.23462046,\n",
        "        2.2649204 ,  2.29334669,  2.31982513,  2.3442815 ,  2.36664162,\n",
        "        2.38683128,  2.40477626,  2.42040237,  2.43363541,  2.44440116,\n",
        "        2.45262543,  2.45823401,  2.4611527 ,  2.46130729,  2.45862358,\n",
        "        2.45302737,  2.44444444,  2.43280061,  2.41802166,  2.40003339,\n",
        "        2.3787616 ,  2.35413208,  2.32607062,  2.29450303,  2.25935511,\n",
        "        2.22055263,  2.17802141,  2.13168724,  2.08147592,  2.02731323,\n",
        "        1.96912498,  1.90683696,  1.84037498,  1.76966481,  1.69463227,\n",
        "        1.61520315,  1.53130324,  1.44285834,  1.34979424,  1.25203674,\n",
        "        1.14951165,  1.04214474,  0.92986183,  0.8125887 ,  0.69025115,\n",
        "        0.56277498,  0.43008598,  0.29210996,  0.1487727 ,  0.        ])"
       ]
      }
     ],
     "prompt_number": 12
    },
    {
     "cell_type": "code",
     "collapsed": false,
     "input": [
      "np.arange(10)"
     ],
     "language": "python",
     "metadata": {},
     "outputs": [
      {
       "metadata": {},
       "output_type": "pyout",
       "prompt_number": 13,
       "text": [
        "array([0, 1, 2, 3, 4, 5, 6, 7, 8, 9])"
       ]
      }
     ],
     "prompt_number": 13
    },
    {
     "cell_type": "code",
     "collapsed": false,
     "input": [
      "puntos_perfil = np.zeros([13,2])\n",
      "puntos_perfil[0,] = [1,0]\n",
      "puntos_perfil[6,] = [1,0]"
     ],
     "language": "python",
     "metadata": {},
     "outputs": [],
     "prompt_number": 14
    },
    {
     "cell_type": "code",
     "collapsed": false,
     "input": [
      "genes = np.array([150*np.pi/180, #ang s1\n",
      "                  0.2,           #dist s1\n",
      "                  0.5,           #x 1\n",
      "                  0.12,          #y 1\n",
      "                  0,             #ang 1\n",
      "                  0.2,           #dist b1\n",
      "                  0.2,           #dist c1\n",
      "                  0.1,           #dist a1\n",
      "                  0.05,           #dist a2\n",
      "                  0.4,           #x 2\n",
      "                  0.05,          #y 2\n",
      "                  5*np.pi/180,  #ang 2\n",
      "                  0.2,           #dist b2\n",
      "                  0.2,           #dist c2\n",
      "                  160*np.pi/180, #ang s2\n",
      "                  0.2])          #dist s2"
     ],
     "language": "python",
     "metadata": {},
     "outputs": [],
     "prompt_number": 15
    },
    {
     "cell_type": "code",
     "collapsed": false,
     "input": [
      "def punto_pendiente(a,dist,ang):\n",
      "    punto = np.array(a)+ np.array(dist,dist)* [np.cos(ang),np.sin(ang)]\n",
      "    return punto"
     ],
     "language": "python",
     "metadata": {},
     "outputs": [],
     "prompt_number": 16
    },
    {
     "cell_type": "code",
     "collapsed": false,
     "input": [
      "def generador_puntos(genes):\n",
      "    puntos = np.zeros([13,2])\n",
      "    puntos[0,:] = [1,0]\n",
      "#    puntos[1,:] = [1,0] + np.array([genes[1],genes[1]]) * [-np.cos(genes[0]),np.sin(genes[0])]\n",
      "    puntos[1,:] = punto_pendiente([1,0],genes[1],genes[0])\n",
      "    puntos[3,:] = [genes[2],genes[3]]\n",
      "#    puntos[2,:] = [genes[2],genes[3]] + genes[5] * [np.cos(genes[4]),np.sin(genes[4])]\n",
      "    puntos[2,:] = punto_pendiente([genes[2],genes[3]],genes[5],genes[4])\n",
      "#    puntos[4,:] = [genes[2],genes[3]] + genes[6] * [-np.cos(genes[4]),np.sin(genes[4])]\n",
      "    puntos[4,:] = punto_pendiente([genes[2],genes[3]],genes[6],genes[4]+np.pi)\n",
      "    puntos[5,:] = [0, genes[7]]\n",
      "    puntos[6,:] = [0,0]\n",
      "    puntos[7,:] = [0, -genes[8]]\n",
      "    puntos[9,:] = [genes[9],genes[10]]\n",
      "#    puntos[8,:] = [genes[9],genes[10]] + genes[12] * [np.cos(genes[11]),np.sin(genes[11])]\n",
      "    puntos[8,:] = punto_pendiente([genes[9],genes[10]], genes[12], genes[11]+np.pi)\n",
      "#    puntos[10,:] = [genes[9],genes[10]] + genes[13] * [-np.cos(genes[11]),np.sin(genes[11])]\n",
      "    puntos[10,:] = punto_pendiente([genes[9],genes[10]], genes[13], genes[11])\n",
      "#    puntos[11,:] = [1,0] + genes[15] * [-np.cos(genes[14]),np.sin(genes[14])]\n",
      "    puntos[11,:] = punto_pendiente([1,0], genes[15], genes[14])\n",
      "    puntos[12,:] = [1,0]\n",
      "    return puntos"
     ],
     "language": "python",
     "metadata": {},
     "outputs": [],
     "prompt_number": 17
    },
    {
     "cell_type": "code",
     "collapsed": false,
     "input": [
      "puntos_control = generador_puntos(genes)"
     ],
     "language": "python",
     "metadata": {},
     "outputs": [],
     "prompt_number": 18
    },
    {
     "cell_type": "code",
     "collapsed": false,
     "input": [
      "plt.plot(puntos_control[:,0],puntos_control[:,1])"
     ],
     "language": "python",
     "metadata": {},
     "outputs": [
      {
       "metadata": {},
       "output_type": "pyout",
       "prompt_number": 19,
       "text": [
        "[<matplotlib.lines.Line2D at 0x69eddd8>]"
       ]
      },
      {
       "metadata": {},
       "output_type": "display_data",
       "png": "[encoded data removed]",
       "text": [
        "<matplotlib.figure.Figure at 0x6758278>"
       ]
      }
     ],
     "prompt_number": 19
    },
    {
     "cell_type": "code",
     "collapsed": false,
     "input": [
      "curva = np.zeros([num,2])"
     ],
     "language": "python",
     "metadata": {},
     "outputs": [],
     "prompt_number": 20
    },
    {
     "cell_type": "code",
     "collapsed": false,
     "input": [
      "def bezier(num, puntos_control):\n",
      "    \n",
      "    parametro_u = np.linspace(0,1,num)\n",
      "    curva = np.zeros([num,2])\n",
      "\n",
      "    for contador in np.arange(num):\n",
      "        _ = bernstein(parametro_u[contador])*puntos_control\n",
      "        curva[contador,] = sum (_)\n",
      "    return curva\n",
      "    \n"
     ],
     "language": "python",
     "metadata": {},
     "outputs": [],
     "prompt_number": 21
    },
    {
     "cell_type": "code",
     "collapsed": false,
     "input": [
      "num = 100\n",
      "\n",
      "perfil = np.zeros([(4*num), 2])\n",
      "\n",
      "perfil[0:num,:] = bezier(num,puntos_control[0:4,:])\n",
      "perfil[num:2*num,:] = bezier(num,puntos_control[3:7,:])\n",
      "perfil[2*num:3*num,:] = bezier(num,puntos_control[6:10,:])\n",
      "perfil[3*num:4*num,:] = bezier(num,puntos_control[9:13,:])"
     ],
     "language": "python",
     "metadata": {},
     "outputs": [],
     "prompt_number": 22
    },
    {
     "cell_type": "code",
     "collapsed": false,
     "input": [
      "plt.figure(num=None, figsize=(18, 6), dpi=80, facecolor='w', edgecolor='k')\n",
      "plt.plot(perfil[:,0],perfil[:,1])\n",
      "plt.plot(puntos_control[:,0],puntos_control[:,1])\n",
      "plt.gca().set_aspect(1)\n"
     ],
     "language": "python",
     "metadata": {},
     "outputs": [
      {
       "metadata": {},
       "output_type": "display_data",
       "png": "[encoded data removed]",
       "text": [
        "<matplotlib.figure.Figure at 0x69cff28>"
       ]
      }
     ],
     "prompt_number": 23
    },
    {
     "cell_type": "code",
     "collapsed": false,
     "input": [
      "from IPython.html.widgets import interactive"
     ],
     "language": "python",
     "metadata": {},
     "outputs": [],
     "prompt_number": 24
    },
    {
     "cell_type": "code",
     "collapsed": false,
     "input": [
      "def pintar(genes):\n",
      "    num = 100\n",
      "\n",
      "    perfil = np.zeros([(4*num), 2])\n",
      "    \n",
      "    puntos_control = generador_puntos(genes)\n",
      "\n",
      "    perfil[0:num,:] = bezier(num,puntos_control[0:4,:])\n",
      "    perfil[num:2*num,:] = bezier(num,puntos_control[3:7,:])\n",
      "    perfil[2*num:3*num,:] = bezier(num,puntos_control[6:10,:])\n",
      "    perfil[3*num:4*num,:] = bezier(num,puntos_control[9:13,:])\n",
      "    \n",
      "    plt.figure(num=None, figsize=(18, 6), dpi=80, facecolor='w', edgecolor='k')\n",
      "    plt.plot(perfil[:,0],perfil[:,1])\n",
      "    plt.plot(puntos_control[:,0],puntos_control[:,1])\n",
      "    plt.gca().set_aspect(1)\n",
      "\n",
      "\n",
      "    return 0\n"
     ],
     "language": "python",
     "metadata": {},
     "outputs": [],
     "prompt_number": 25
    },
    {
     "cell_type": "code",
     "collapsed": false,
     "input": [
      "def intermedio(g0,g1, g2, g3, g4, g5, g6, g7, g8, g9, g10, g11, g12, g13, g14, g15):\n",
      "    return np.array([g0,g1, g2, g3, g4, g5, g6, g7, g8, g9, g10, g11, g12, g13, g14, g15])\n",
      "\n",
      "def pintar2(g0,g1, g2, g3, g4, g5, g6, g7, g8, g9, g10, g11, g12, g13, g14, g15):\n",
      "    pintar(intermedio(g0,g1, g2, g3, g4, g5, g6, g7, g8, g9, g10, g11, g12, g13, g14, g15))\n",
      "    return 0"
     ],
     "language": "python",
     "metadata": {},
     "outputs": [],
     "prompt_number": 26
    },
    {
     "cell_type": "code",
     "collapsed": false,
     "input": [
      "interactive(pintar2,\n",
      "        g0 = (130*np.pi/180,180*np.pi/180,5*np.pi/180), #ang s1\n",
      "        g1 = (0, 0.5, 0.01),           #dist s1\n",
      "        g2 = (0.2, 0.8, 0.05),           #x 1\n",
      "        g3 = (0, 0.4, 0.02),          #y 1\n",
      "        g4 = (-25*np.pi/180,25*np.pi/180,5*np.pi/180),             #ang 1\n",
      "        g5 = (0,0.4, 0.05),           #dist b1\n",
      "        g6 = (0,0.4, 0.05),           #dist c1\n",
      "        g7 = (0, 0.5, 0.01),           #dist a1\n",
      "        g8 = (0, 0.5, 0.01),           #dist a2\n",
      "        g9 = (0.2, 0.8, 0.05),           #x 2\n",
      "        g10 = (-0.4, 0.2, 0.02),          #y 2\n",
      "        g11 = (-25*np.pi/180,25*np.pi/180,5*np.pi/180),  #ang 2\n",
      "        g12 = (0,0.4, 0.05),           #dist b2\n",
      "        g13 = (0,0.4, 0.05),           #dist c2\n",
      "        g14 = 160*np.pi/180, #ang s2\n",
      "        g15 = (0,0.4, 0.05))"
     ],
     "language": "python",
     "metadata": {},
     "outputs": [
      {
       "metadata": {},
       "output_type": "display_data",
       "png": "[encoded data removed]",
       "text": [
        "<matplotlib.figure.Figure at 0x6c0a400>"
       ]
      }
     ],
     "prompt_number": 27
    },
    {
     "cell_type": "code",
     "collapsed": false,
     "input": [],
     "language": "python",
     "metadata": {},
     "outputs": [],
     "prompt_number": 27
    }
   ],
   "metadata": {}
  }
 ]
}